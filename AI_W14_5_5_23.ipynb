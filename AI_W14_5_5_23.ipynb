{
  "nbformat": 4,
  "nbformat_minor": 0,
  "metadata": {
    "colab": {
      "provenance": [],
      "gpuType": "T4",
      "authorship_tag": "ABX9TyM4ComqeSq1lmr0Xf6qlvE4",
      "include_colab_link": true
    },
    "kernelspec": {
      "name": "python3",
      "display_name": "Python 3"
    },
    "language_info": {
      "name": "python"
    },
    "accelerator": "GPU",
    "gpuClass": "standard"
  },
  "cells": [
    {
      "cell_type": "markdown",
      "metadata": {
        "id": "view-in-github",
        "colab_type": "text"
      },
      "source": [
        "<a href=\"https://colab.research.google.com/github/nguyendoanquangnhat/Speech-text/blob/main/AI_W14_5_5_23.ipynb\" target=\"_parent\"><img src=\"https://colab.research.google.com/assets/colab-badge.svg\" alt=\"Open In Colab\"/></a>"
      ]
    },
    {
      "cell_type": "code",
      "execution_count": null,
      "metadata": {
        "colab": {
          "base_uri": "https://localhost:8080/"
        },
        "id": "UytY1m8kcSbo",
        "outputId": "8090321c-3d18-4b2d-d672-999478b9fb13"
      },
      "outputs": [
        {
          "output_type": "stream",
          "name": "stdout",
          "text": [
            "Looking in indexes: https://pypi.org/simple, https://us-python.pkg.dev/colab-wheels/public/simple/\n",
            "Requirement already satisfied: youtube-search in /usr/local/lib/python3.10/dist-packages (2.1.2)\n",
            "Requirement already satisfied: requests in /usr/local/lib/python3.10/dist-packages (from youtube-search) (2.27.1)\n",
            "Requirement already satisfied: charset-normalizer~=2.0.0 in /usr/local/lib/python3.10/dist-packages (from requests->youtube-search) (2.0.12)\n",
            "Requirement already satisfied: idna<4,>=2.5 in /usr/local/lib/python3.10/dist-packages (from requests->youtube-search) (2.10)\n",
            "Requirement already satisfied: urllib3<1.27,>=1.21.1 in /usr/local/lib/python3.10/dist-packages (from requests->youtube-search) (1.26.15)\n",
            "Requirement already satisfied: certifi>=2017.4.17 in /usr/local/lib/python3.10/dist-packages (from requests->youtube-search) (2022.12.7)\n"
          ]
        }
      ],
      "source": [
        "pip install youtube-search"
      ]
    },
    {
      "cell_type": "code",
      "source": [
        "from youtube_search import YoutubeSearch\n",
        "import webbrowser\n",
        "mysong=input('Nhap ten bai hat:')\n",
        "result=YoutubeSearch(mysong,max_results=10).to_dict()\n",
        "#print(result)\n",
        "print(result[0]['url_suffix'])\n",
        "url='http://www.youtube.com'+result[0]['url_suffix']\n",
        "print(url)"
      ],
      "metadata": {
        "colab": {
          "base_uri": "https://localhost:8080/"
        },
        "id": "-khmCY1UcZQg",
        "outputId": "4024b90b-953c-45b8-f048-f4a55e1d95f6"
      },
      "execution_count": null,
      "outputs": [
        {
          "output_type": "stream",
          "name": "stdout",
          "text": [
            "Nhap ten bai hat:making my way\n",
            "/watch?v=niPkap1ozUA&pp=ygUNbWFraW5nIG15IHdheQ%3D%3D\n",
            "http://www.youtube.com/watch?v=niPkap1ozUA&pp=ygUNbWFraW5nIG15IHdheQ%3D%3D\n"
          ]
        }
      ]
    },
    {
      "cell_type": "code",
      "source": [
        "pip install SpeechRecognition pydub"
      ],
      "metadata": {
        "colab": {
          "base_uri": "https://localhost:8080/"
        },
        "id": "YRRnlqjJdIgv",
        "outputId": "5adfe87e-a3b7-4301-ba9d-0a2f6209a586"
      },
      "execution_count": null,
      "outputs": [
        {
          "output_type": "stream",
          "name": "stdout",
          "text": [
            "Looking in indexes: https://pypi.org/simple, https://us-python.pkg.dev/colab-wheels/public/simple/\n",
            "Requirement already satisfied: SpeechRecognition in /usr/local/lib/python3.10/dist-packages (3.10.0)\n",
            "Requirement already satisfied: pydub in /usr/local/lib/python3.10/dist-packages (0.25.1)\n",
            "Requirement already satisfied: requests>=2.26.0 in /usr/local/lib/python3.10/dist-packages (from SpeechRecognition) (2.27.1)\n",
            "Requirement already satisfied: idna<4,>=2.5 in /usr/local/lib/python3.10/dist-packages (from requests>=2.26.0->SpeechRecognition) (2.10)\n",
            "Requirement already satisfied: charset-normalizer~=2.0.0 in /usr/local/lib/python3.10/dist-packages (from requests>=2.26.0->SpeechRecognition) (2.0.12)\n",
            "Requirement already satisfied: certifi>=2017.4.17 in /usr/local/lib/python3.10/dist-packages (from requests>=2.26.0->SpeechRecognition) (2022.12.7)\n",
            "Requirement already satisfied: urllib3<1.27,>=1.21.1 in /usr/local/lib/python3.10/dist-packages (from requests>=2.26.0->SpeechRecognition) (1.26.15)\n"
          ]
        }
      ]
    },
    {
      "cell_type": "code",
      "source": [
        "import speech_recognition as sr\n",
        "r=sr.Recognizer()\n",
        "filename='/male.wav'\n",
        "with sr.AudioFile(filename) as source:\n",
        "  data=r.record(source)\n",
        "  text=r.recognize_google(data)\n",
        "print(text)"
      ],
      "metadata": {
        "colab": {
          "base_uri": "https://localhost:8080/"
        },
        "id": "5mkKytAGfm5u",
        "outputId": "9315359c-3b59-4cf2-da13-cb4478671a9e"
      },
      "execution_count": null,
      "outputs": [
        {
          "output_type": "stream",
          "name": "stdout",
          "text": [
            "what if somebody decides to break it be careful that you keep adequate coverage but look for places to save money baby it's taking longer to get things squared away than the bankers expected during the wife for once company may win her tax hated retirement income as helpful as our cost on the two naked bone when the title of this type of song is in question there's no dying or waxing or gassing needed maybe personalized leather hard place work on a flat surface and smooth out the simplest kind of separate system uses a single self-contained unit the old shop at it still holds a good mechanic is usually a bad boss both figures would go higher in later years doll houses at set\n"
          ]
        }
      ]
    },
    {
      "cell_type": "code",
      "source": [
        "filename1='/SOUND2.wav'\n",
        "with sr.AudioFile(filename1) as source:\n",
        "  data1=r.record(source)\n",
        "  text1=r.recognize_google(data1)\n",
        "print(text1)"
      ],
      "metadata": {
        "colab": {
          "base_uri": "https://localhost:8080/"
        },
        "id": "yjlV69YVhYyH",
        "outputId": "f4ecf7fd-be17-441b-f39b-20e5c0011d8b"
      },
      "execution_count": null,
      "outputs": [
        {
          "output_type": "stream",
          "name": "stdout",
          "text": [
            "we can always improve technology with humanitarian care we can enhance the security of network by introducing Quantum cryptography we can put restrictions on AI to prevent will galavant teleportation or maybe it's too risky to transport human\n"
          ]
        }
      ]
    },
    {
      "cell_type": "markdown",
      "source": [
        "dic=('afrikaans', 'af', 'albanian', 'sq', 'amharic', 'am',  'arabic', 'ar', 'armenian', 'hy', 'azerbaijani', 'az', 'basque', 'eu', 'belarusian', 'be', 'bengali', 'bn', 'bosnian',     'bs', 'bulgarian', 'bg', 'catalan', 'ca',  'cebuano', 'ceb', 'chichewa', 'ny', 'chinese(simplified)',  'zh-cn', 'chinese (traditional)', 'zh-tw',  'corsican', 'co', 'croatian', 'hr', 'czech', 'cs', 'danish',     'da', 'dutch', 'nl', 'english', 'en', 'esperanto',  'eo', 'estonian', 'et', 'filipino', 'tl', 'finnish', 'fi',  'french', 'fr', 'frisian', 'fy', 'galician', 'gl’,   'georgian', 'ka', 'german', 'de', 'greek', 'el', 'gujarati',      'gu', 'haitian creole', 'ht', 'hausa', 'ha',   'hawaiian', 'haw', 'hebrew', 'he', 'hindi', 'hi', 'hmong',  'hmn', 'hungarian', 'hu', 'icelandic', 'is', 'igbo’, 'ig', 'indonesian', 'id', 'irish', 'ga', 'italian', 'it', 'japanese', 'ja', 'javanese', 'jw', 'kannada', 'kn',  'kazakh', 'kk', 'khmer', 'km', 'korean', 'ko', 'kurdish (kurmanji)’, 'ku', 'kyrgyz', 'ky', 'lao', 'lo', 'latin', 'la', 'latvian', 'lv', 'lithuanian', 'lt', 'luxembourgish’,  'lb', 'macedonian', 'mk','malagasy’,  'mg', 'malay', 'ms', 'malayalam', 'ml', 'maltese', 'mt', 'maori’,  'mi', 'marathi', 'mr', 'mongolian', 'mn’, 'myanmar (burmese)', 'my', 'nepali', 'ne', 'norwegian', 'no’, 'odia', 'or', 'pashto', 'ps', 'persian’, 'fa', 'polish', 'pl', 'portuguese', 'pt', 'punjabi', 'pa’, 'romanian', 'ro', 'russian', 'ru', 'samoan’, 'sm', 'scots gaelic', 'gd', 'serbian', 'sr', 'sesotho', 'st', 'shona', 'sn', 'sindhi', 'sd', 'sinhala’, 'si', 'slovak', 'sk', 'slovenian', 'sl', 'somali', 'so', 'spanish', 'es', 'sundanese', 'su', 'swahili', 'sw', 'swedish', 'sv', 'tajik', 'tg', 'tamil’, 'ta', 'telugu', 'te', 'thai', 'th', 'turkish', 'tr’, 'ukrainian', 'uk', 'urdu', 'ur', 'uyghur', 'ug', 'uzbek', 'uz', 'vietnamese', 'vi', 'welsh', 'cy', 'xhosa', 'xh’, 'yiddish', 'yi', 'yoruba', 'yo', 'zulu', 'zu')"
      ],
      "metadata": {
        "id": "8DVWikKLoS0b"
      }
    },
    {
      "cell_type": "code",
      "source": [
        "filename2='/chap20.wav'\n",
        "with sr.AudioFile(filename2) as source:\n",
        "  data2=r.record(source)\n",
        "  text2=r.recognize_google(data2,language='ko')\n",
        "print(text2)"
      ],
      "metadata": {
        "colab": {
          "base_uri": "https://localhost:8080/"
        },
        "id": "3h7Ovl-NjfdP",
        "outputId": "99c3231b-b529-4dce-e6ff-73a511397339"
      },
      "execution_count": null,
      "outputs": [
        {
          "output_type": "stream",
          "name": "stdout",
          "text": [
            "철수 씨가 어디에 있어요 아마 학교에서 공부 수업이 끝나지 않았어요 수업이 있어요 그 수업을 왜 선택했어요 예쁜 여자가 많기 때문에 선택했어요 씨가 어디에 있어요 아마 학교에서 공부해요 학교에 갔어요 수업이니 끝나지 않았어요 아니요 밤에도 수업이 있어요 철수 씨가 그 수업을 왜 선택했어요 그 수업에 예쁜 여자가 많기 때문에 선택했어요\n"
          ]
        }
      ]
    },
    {
      "cell_type": "code",
      "source": [
        "import speech_recognition as sr\n",
        "r=sr.Recognizer()\n",
        "with sr.AudioFile('/korea.wav') as source:\n",
        "  audio1=r.record(source,offset=31,duration=50)      #offset: thoi diem bat dau ke tu thoi diem ket thuc truoc do; duration: thoi gian audio\n",
        "  audio2=r.record(source,offset=90,duration=50)\n",
        "print(r.recognize_google(audio1,language='ko'))\n",
        "print(r.recognize_google(audio2,language='ko'))"
      ],
      "metadata": {
        "colab": {
          "base_uri": "https://localhost:8080/"
        },
        "id": "8BG4nPGhkYp3",
        "outputId": "05a983b6-4966-4787-9d89-fce26a58a58c"
      },
      "execution_count": null,
      "outputs": [
        {
          "output_type": "stream",
          "name": "stdout",
          "text": [
            "고맙고 사랑해 날 떠날 때 내 업계 드리면 얘기하지 않아도 가끔 서운 캐논\n",
            "유리벽 우리 삶을 살아도\n"
          ]
        }
      ]
    },
    {
      "cell_type": "code",
      "source": [
        "with sr.AudioFile('/giao_tiep_co_ban_tieng_y_chao_hoi_-4254677779389781927.wav') as source:\n",
        "  audio1=r.record(source,offset=11,duration=30)\n",
        "  audio2=r.record(source,offset=20,duration=30)\n",
        "print(r.recognize_google(audio1,language='it'))\n",
        "print(r.recognize_google(audio2,language='it'))"
      ],
      "metadata": {
        "colab": {
          "base_uri": "https://localhost:8080/"
        },
        "id": "jqh1sIEWpier",
        "outputId": "da30aceb-ac05-4804-cea5-1451b845360f"
      },
      "execution_count": null,
      "outputs": [
        {
          "output_type": "stream",
          "name": "stdout",
          "text": [
            "Ciao mi chiamo away E tu Mi chiamo Juan non sei italiano vero si sono spagnolo Juan è un nome spagnolo di dove sei Sono di la capitale di Spagna è una città veramente bellissima la conosci Infatti secondo me tutte le città di Spagna sono bellissime\n",
            "dove vieni tu o la tifo quindi Arrivederci che per il test\n"
          ]
        }
      ]
    },
    {
      "cell_type": "code",
      "source": [
        "with sr.AudioFile('/SONG1.wav') as source:\n",
        "  audio1=r.record(source,duration=40)\n",
        "  audio2=r.record(source,offset=40,duration=20)\n",
        "print(r.recognize_google(audio1,language='vi'))\n",
        "print(r.recognize_google(audio2,language='vi'))"
      ],
      "metadata": {
        "colab": {
          "base_uri": "https://localhost:8080/"
        },
        "id": "VVPqVRforeIg",
        "outputId": "b12326f2-5cb1-409c-b0b2-a97d4f27fe8e"
      },
      "execution_count": null,
      "outputs": [
        {
          "output_type": "stream",
          "name": "stdout",
          "text": [
            "anh đã lớn hơn vẫn muốn bên em đang thay thế nào là thanh niên đã tìm thấy em ở một nơi mà sau này anh nhận ra Trong Mơ từ thì anh đang ở nơi có thể\n",
            "có ngày mai quên giấc mộng buồn về thêm nụ cười chẳng nên biết tất cả những gì mình bên nhau\n"
          ]
        }
      ]
    },
    {
      "cell_type": "code",
      "source": [
        "import speech_recognition as sr\n",
        "r=sr.Recognizer()\n",
        "with sr.AudioFile('/mockingbird-acapella.wav') as source:\n",
        "  audio1=r.record(source,offset=20,duration=20)\n",
        "  audio2=r.record(source,offset=20,duration=20)\n",
        "print(r.recognize_google(audio1,language='en'))\n",
        "print(r.recognize_google(audio2,language='en'))"
      ],
      "metadata": {
        "colab": {
          "base_uri": "https://localhost:8080/"
        },
        "id": "gb6_1uMTsdh3",
        "outputId": "712194f1-3947-49f9-944b-cdc7d0dd516f"
      },
      "execution_count": null,
      "outputs": [
        {
          "output_type": "stream",
          "name": "stdout",
          "text": [
            "Haley I know you miss your mom and I know you miss your dad when I'm gone but I'm trying to give you the life that I never had I can see you sad even when you smile even when you laugh I can see it in your eyes deep inside you want to cry cuz you're scared\n",
            "all the things growing up is Daddy Daddy had to see Daddy don't want you to see but you see just as much as he did we did not plan it to be this way your mother and me but things have got so bad between us\n"
          ]
        }
      ]
    },
    {
      "cell_type": "code",
      "source": [
        "pip install gTTS"
      ],
      "metadata": {
        "colab": {
          "base_uri": "https://localhost:8080/"
        },
        "id": "RP328Nv4wL4U",
        "outputId": "601b1648-1c91-4ae7-e583-929df04da147"
      },
      "execution_count": null,
      "outputs": [
        {
          "output_type": "stream",
          "name": "stdout",
          "text": [
            "Looking in indexes: https://pypi.org/simple, https://us-python.pkg.dev/colab-wheels/public/simple/\n",
            "Collecting gTTS\n",
            "  Downloading gTTS-2.3.2-py3-none-any.whl (28 kB)\n",
            "Requirement already satisfied: requests<3,>=2.27 in /usr/local/lib/python3.10/dist-packages (from gTTS) (2.27.1)\n",
            "Requirement already satisfied: click<8.2,>=7.1 in /usr/local/lib/python3.10/dist-packages (from gTTS) (8.1.3)\n",
            "Requirement already satisfied: idna<4,>=2.5 in /usr/local/lib/python3.10/dist-packages (from requests<3,>=2.27->gTTS) (3.4)\n",
            "Requirement already satisfied: certifi>=2017.4.17 in /usr/local/lib/python3.10/dist-packages (from requests<3,>=2.27->gTTS) (2022.12.7)\n",
            "Requirement already satisfied: urllib3<1.27,>=1.21.1 in /usr/local/lib/python3.10/dist-packages (from requests<3,>=2.27->gTTS) (1.26.15)\n",
            "Requirement already satisfied: charset-normalizer~=2.0.0 in /usr/local/lib/python3.10/dist-packages (from requests<3,>=2.27->gTTS) (2.0.12)\n",
            "Installing collected packages: gTTS\n",
            "Successfully installed gTTS-2.3.2\n"
          ]
        }
      ]
    },
    {
      "cell_type": "code",
      "source": [
        "from gtts import gTTS\n",
        "import os\n",
        "A='Artificial intelligence is a rapidly developing field in recent times. It involves designing systems that can learn and automate tasks that previously only humans could perform. Artificial intelligence has been and is being widely applied in many fields, from industry to healthcare, helping to increase production efficiency, improve service quality, and enhance human health. However, ethical and information security challenges also need to be addressed when applying artificial intelligence.'\n",
        "speak=gTTS(text=A,lang='ar',slow=False)\n",
        "speak.save('/speak1.mp3')"
      ],
      "metadata": {
        "id": "s_pQR7mXzYmr"
      },
      "execution_count": null,
      "outputs": []
    },
    {
      "cell_type": "code",
      "source": [
        "pip install googletrans==3.1.0a0"
      ],
      "metadata": {
        "colab": {
          "base_uri": "https://localhost:8080/"
        },
        "id": "4W89SWVW1bk7",
        "outputId": "5d5b0428-61d3-4dc1-ebcb-c7ad734b62bd"
      },
      "execution_count": null,
      "outputs": [
        {
          "output_type": "stream",
          "name": "stdout",
          "text": [
            "Looking in indexes: https://pypi.org/simple, https://us-python.pkg.dev/colab-wheels/public/simple/\n",
            "Requirement already satisfied: googletrans==3.1.0a0 in /usr/local/lib/python3.10/dist-packages (3.1.0a0)\n",
            "Requirement already satisfied: httpx==0.13.3 in /usr/local/lib/python3.10/dist-packages (from googletrans==3.1.0a0) (0.13.3)\n",
            "Requirement already satisfied: hstspreload in /usr/local/lib/python3.10/dist-packages (from httpx==0.13.3->googletrans==3.1.0a0) (2023.1.1)\n",
            "Requirement already satisfied: httpcore==0.9.* in /usr/local/lib/python3.10/dist-packages (from httpx==0.13.3->googletrans==3.1.0a0) (0.9.1)\n",
            "Requirement already satisfied: idna==2.* in /usr/local/lib/python3.10/dist-packages (from httpx==0.13.3->googletrans==3.1.0a0) (2.10)\n",
            "Requirement already satisfied: chardet==3.* in /usr/local/lib/python3.10/dist-packages (from httpx==0.13.3->googletrans==3.1.0a0) (3.0.4)\n",
            "Requirement already satisfied: rfc3986<2,>=1.3 in /usr/local/lib/python3.10/dist-packages (from httpx==0.13.3->googletrans==3.1.0a0) (1.5.0)\n",
            "Requirement already satisfied: certifi in /usr/local/lib/python3.10/dist-packages (from httpx==0.13.3->googletrans==3.1.0a0) (2022.12.7)\n",
            "Requirement already satisfied: sniffio in /usr/local/lib/python3.10/dist-packages (from httpx==0.13.3->googletrans==3.1.0a0) (1.3.0)\n",
            "Requirement already satisfied: h11<0.10,>=0.8 in /usr/local/lib/python3.10/dist-packages (from httpcore==0.9.*->httpx==0.13.3->googletrans==3.1.0a0) (0.9.0)\n",
            "Requirement already satisfied: h2==3.* in /usr/local/lib/python3.10/dist-packages (from httpcore==0.9.*->httpx==0.13.3->googletrans==3.1.0a0) (3.2.0)\n",
            "Requirement already satisfied: hpack<4,>=3.0 in /usr/local/lib/python3.10/dist-packages (from h2==3.*->httpcore==0.9.*->httpx==0.13.3->googletrans==3.1.0a0) (3.0.0)\n",
            "Requirement already satisfied: hyperframe<6,>=5.2.0 in /usr/local/lib/python3.10/dist-packages (from h2==3.*->httpcore==0.9.*->httpx==0.13.3->googletrans==3.1.0a0) (5.2.0)\n"
          ]
        }
      ]
    },
    {
      "cell_type": "code",
      "source": [
        "from googletrans import Translator\n",
        "translator=Translator()\n",
        "translation=translator.translate('고맙고 사랑해 날 떠날 때 내 업계 드리면 얘기하지 않아도 가끔 서운 캐논',dest='vi')\n",
        "print(translation.text)"
      ],
      "metadata": {
        "colab": {
          "base_uri": "https://localhost:8080/"
        },
        "id": "eQW_ePFT3514",
        "outputId": "b7cd95a2-3283-4125-b9d6-d26854158b2d"
      },
      "execution_count": null,
      "outputs": [
        {
          "output_type": "stream",
          "name": "stdout",
          "text": [
            "Cảm ơn và tôi yêu bạn Khi bạn rời xa tôi, nếu bạn nói với tôi về ngành của tôi, ngay cả khi bạn không nói về nó, đôi khi tôi buồn Canon\n"
          ]
        }
      ]
    },
    {
      "cell_type": "code",
      "source": [
        "import speech_recognition as sr\n",
        "r=sr.Recognizer()\n",
        "with sr.AudioFile('/mockingbird-acapella.wav') as source:\n",
        "  audio1=r.record(source,offset=20,duration=30)\n",
        "  audio2=r.record(source,offset=20,duration=30)\n",
        "  audio3=r.record(source,offset=20,duration=30)\n",
        "  text1=r.recognize_google(audio1,language='en')\n",
        "  text2=r.recognize_google(audio2,language='en')\n",
        "  text3=r.recognize_google(audio3,language='en')\n",
        "print(text1)\n",
        "print(text2)\n",
        "print(text3)\n",
        "translator=Translator()\n",
        "translation1=translator.translate(text1,dest='vi')\n",
        "translation2=translator.translate(text2,dest='vi')\n",
        "translation3=translator.translate(text3,dest='vi')\n",
        "data1=translation1.text\n",
        "data2=translation2.text\n",
        "data3=translation3.text\n",
        "print(data1)\n",
        "print(data2)\n",
        "print(data3)\n",
        "speak1=gTTS(text=data1,lang='th',slow=False)\n",
        "speak1.save('/speak1.mp3')\n",
        "speak2=gTTS(text=data2,lang='th',slow=False)\n",
        "speak2.save('/speak2.mp3')\n",
        "speak3=gTTS(text=data3,lang='th',slow=False)\n",
        "speak3.save('/speak3.mp3')"
      ],
      "metadata": {
        "colab": {
          "base_uri": "https://localhost:8080/"
        },
        "id": "qCB8JHul4uig",
        "outputId": "2f98c54d-e545-4f96-90a0-f5bf2dd2ba1a"
      },
      "execution_count": null,
      "outputs": [
        {
          "output_type": "stream",
          "name": "stdout",
          "text": [
            "Haley I know you miss your mom and I know you miss your dad when I'm gone but I'm trying to give you the life that I never had I can see you sad even when you smile even when you laugh I can see it in your eyes deep inside you want to cry cuz you're scared\n",
            "healthiest ever being together ever again like we used to\n",
            "forget that Christmas I set up the whole night crying cuz Daddy felt like a bomb see Daddy had a job but his job was to keep the food on the table for you and Mom and at the time every house that we lived in either kept getting broken into and robbed and shot up on the Block and your mom so you could go to college\n",
            "Haley tôi biết bạn nhớ mẹ và tôi biết bạn nhớ bố khi tôi ra đi nhưng tôi đang cố mang đến cho bạn cuộc sống mà tôi chưa từng có Tôi có thể thấy bạn buồn ngay cả khi bạn cười ngay cả khi bạn cười Tôi có thể thấy điều đó trong đôi mắt của bạn sâu bên trong bạn muốn khóc vì bạn đang sợ hãi\n",
            "khỏe mạnh nhất không bao giờ được ở bên nhau như chúng ta đã từng\n",
            "Quên cái Giáng sinh đó đi con khóc cả đêm bố như bị bom thấy bố đi làm nhưng công việc của bố là bưng bê thức ăn trên bàn cho mẹ và con và lúc đó mọi ngôi nhà chúng ta ở đều bị hỏng vào và bị cướp và bắn vào Block và mẹ của bạn để bạn có thể đi học đại học\n"
          ]
        }
      ]
    },
    {
      "cell_type": "code",
      "source": [
        "pip install pytesseract"
      ],
      "metadata": {
        "colab": {
          "base_uri": "https://localhost:8080/"
        },
        "id": "1kxz2liI6j6W",
        "outputId": "0329cab3-847a-45da-bbd2-94ba1a5833de"
      },
      "execution_count": null,
      "outputs": [
        {
          "output_type": "stream",
          "name": "stdout",
          "text": [
            "Looking in indexes: https://pypi.org/simple, https://us-python.pkg.dev/colab-wheels/public/simple/\n",
            "Collecting pytesseract\n",
            "  Downloading pytesseract-0.3.10-py3-none-any.whl (14 kB)\n",
            "Requirement already satisfied: Pillow>=8.0.0 in /usr/local/lib/python3.10/dist-packages (from pytesseract) (8.4.0)\n",
            "Requirement already satisfied: packaging>=21.3 in /usr/local/lib/python3.10/dist-packages (from pytesseract) (23.1)\n",
            "Installing collected packages: pytesseract\n",
            "Successfully installed pytesseract-0.3.10\n"
          ]
        }
      ]
    },
    {
      "cell_type": "code",
      "source": [
        "sudo apt install tesseract-ocr"
      ],
      "metadata": {
        "colab": {
          "base_uri": "https://localhost:8080/",
          "height": 132
        },
        "id": "pkJ8-YY7_WCR",
        "outputId": "565017ac-d881-4acf-87a8-921205e5361f"
      },
      "execution_count": null,
      "outputs": [
        {
          "output_type": "error",
          "ename": "SyntaxError",
          "evalue": "ignored",
          "traceback": [
            "\u001b[0;36m  File \u001b[0;32m\"<ipython-input-29-41471565a800>\"\u001b[0;36m, line \u001b[0;32m1\u001b[0m\n\u001b[0;31m    sudo apt install tesseract-ocr\u001b[0m\n\u001b[0m         ^\u001b[0m\n\u001b[0;31mSyntaxError\u001b[0m\u001b[0;31m:\u001b[0m invalid syntax\n"
          ]
        }
      ]
    },
    {
      "cell_type": "code",
      "source": [
        "from PIL import image\n",
        "import pytesseract\n",
        "import numpy as np\n",
        "import matplotlib.pyplob as plt\n",
        "filename=''\n",
        "img=plt.imread(filename)\n",
        "plt.imshow(img)\n",
        "plt.show()\n",
        "img1=np.array(Image.open(filenames))\n",
        "text=pytesseract.image_to_string(img1)\n"
      ],
      "metadata": {
        "colab": {
          "base_uri": "https://localhost:8080/",
          "height": 306
        },
        "id": "aFdEbUnp_qlJ",
        "outputId": "d39c6a4c-9636-4f41-adbb-067e957566ec"
      },
      "execution_count": null,
      "outputs": [
        {
          "output_type": "error",
          "ename": "ImportError",
          "evalue": "ignored",
          "traceback": [
            "\u001b[0;31m---------------------------------------------------------------------------\u001b[0m",
            "\u001b[0;31mImportError\u001b[0m                               Traceback (most recent call last)",
            "\u001b[0;32m<ipython-input-30-7892611e7a30>\u001b[0m in \u001b[0;36m<cell line: 1>\u001b[0;34m()\u001b[0m\n\u001b[0;32m----> 1\u001b[0;31m \u001b[0;32mfrom\u001b[0m \u001b[0mPIL\u001b[0m \u001b[0;32mimport\u001b[0m \u001b[0mimage\u001b[0m\u001b[0;34m\u001b[0m\u001b[0;34m\u001b[0m\u001b[0m\n\u001b[0m",
            "\u001b[0;31mImportError\u001b[0m: cannot import name 'image' from 'PIL' (/usr/local/lib/python3.10/dist-packages/PIL/__init__.py)",
            "",
            "\u001b[0;31m---------------------------------------------------------------------------\u001b[0;32m\nNOTE: If your import is failing due to a missing package, you can\nmanually install dependencies using either !pip or !apt.\n\nTo view examples of installing some common dependencies, click the\n\"Open Examples\" button below.\n\u001b[0;31m---------------------------------------------------------------------------\u001b[0m\n"
          ],
          "errorDetails": {
            "actions": [
              {
                "action": "open_url",
                "actionText": "Open Examples",
                "url": "/notebooks/snippets/importing_libraries.ipynb"
              }
            ]
          }
        }
      ]
    },
    {
      "cell_type": "code",
      "source": [
        "from pytesseract import Output\n",
        "import pytesseract\n",
        "import cv2\n",
        "results=pytesseract.image_to_data(img1,output_type=Output.PICI)\n",
        "print(result)"
      ],
      "metadata": {
        "id": "HTV_10hR__1u"
      },
      "execution_count": null,
      "outputs": []
    },
    {
      "cell_type": "code",
      "source": [
        "for i in range(0,len(results['text'])):\n",
        "  x=results['left'][i]\n",
        "  y=results['top'][i]\n",
        "  w=results['width'][i]\n",
        "  h=results['height'][i]\n",
        "  text=results['text'][i]\n",
        "  conf=int(results['conf'][i])\n",
        "  if conf>70:\n",
        "    text=''.join([C if ord(C)<128 else '' for C in text]).Strip()\n",
        "    CV2.rectangle(img1,(x,y),(x+w,y+h),(0,255,0),2)\n",
        "    CV2.putText(img1,text,(x,y-10),CV2.FONT_HERSHEY_SIMPLEX,0.5,(0,0,200),2)\n",
        "plt.imshow(img1)"
      ],
      "metadata": {
        "id": "OjjzfjB4Cg3g"
      },
      "execution_count": null,
      "outputs": []
    }
  ]
}